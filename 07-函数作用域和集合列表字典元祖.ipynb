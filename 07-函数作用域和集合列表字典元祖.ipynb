{
 "cells": [
  {
   "cell_type": "markdown",
   "metadata": {},
   "source": [
    "# 变量作用域\n",
    "- 变量由作用范围限制\n",
    "- 分类：按照作用域分类\n",
    "    - 全局(global): 在函数外部定义\n",
    "    - 局部（local)：在函数内部定义\n",
    "- 变量的作用范围：\n",
    "    - 全局变量：在整个全局范围都有效\n",
    "    - 全局变量在局部可以使用（即函数内部可以方位函数外部定义的变量）\n",
    "    - 局部变量在局部范围可以使用\n",
    "    - 局部变量在全局范围无法使用\n",
    "- LEGB原则\n",
    "    - L（Local）局部作用域\n",
    "    - E（Enclosing function locale）外部嵌套函数作用域\n",
    "    - G（Global module）函数定义所在模块作用域\n",
    "    - B（Buildin）： python内置魔抗的作用域"
   ]
  },
  {
   "cell_type": "code",
   "execution_count": 1,
   "metadata": {
    "collapsed": false
   },
   "outputs": [
    {
     "name": "stdout",
     "output_type": "stream",
     "text": [
      "100\n",
      "100\n",
      "I am in fun\n",
      "99\n"
     ]
    },
    {
     "ename": "NameError",
     "evalue": "name 'a2' is not defined",
     "output_type": "error",
     "traceback": [
      "\u001b[0;31m---------------------------------------------------------------------------\u001b[0m",
      "\u001b[0;31mNameError\u001b[0m                                 Traceback (most recent call last)",
      "\u001b[0;32m<ipython-input-1-5d2783f09c11>\u001b[0m in \u001b[0;36m<module>\u001b[0;34m()\u001b[0m\n\u001b[1;32m     13\u001b[0m \u001b[0mprint\u001b[0m\u001b[1;33m(\u001b[0m\u001b[0ma1\u001b[0m\u001b[1;33m)\u001b[0m\u001b[1;33m\u001b[0m\u001b[0m\n\u001b[1;32m     14\u001b[0m \u001b[0mfun\u001b[0m\u001b[1;33m(\u001b[0m\u001b[1;33m)\u001b[0m\u001b[1;33m\u001b[0m\u001b[0m\n\u001b[0;32m---> 15\u001b[0;31m \u001b[0mprint\u001b[0m\u001b[1;33m(\u001b[0m\u001b[0ma2\u001b[0m\u001b[1;33m)\u001b[0m\u001b[1;33m\u001b[0m\u001b[0m\n\u001b[0m",
      "\u001b[0;31mNameError\u001b[0m: name 'a2' is not defined"
     ]
    }
   ],
   "source": [
    "\n",
    "# 认为a1是全局的# 认为a1是 \n",
    "a1 = 100\n",
    "\n",
    "def fun():\n",
    "    print(a1)\n",
    "    print(\"I am in fun\")\n",
    "    # a2的作用范围是fun\n",
    "    a2 = 99\n",
    "    print(a2)\n",
    "    \n",
    "    \n",
    "print(a1)\n",
    "fun()\n",
    "print(a2)"
   ]
  },
  {
   "cell_type": "markdown",
   "metadata": {},
   "source": [
    "# 提升局部变量为全局变量\n",
    "- 使用global\n",
    "- 案例如下"
   ]
  },
  {
   "cell_type": "code",
   "execution_count": 11,
   "metadata": {
    "collapsed": false
   },
   "outputs": [
    {
     "name": "stdout",
     "output_type": "stream",
     "text": [
      "100\n"
     ]
    },
    {
     "ename": "NameError",
     "evalue": "name 'b2' is not defined",
     "output_type": "error",
     "traceback": [
      "\u001b[0;31m---------------------------------------------------------------------------\u001b[0m",
      "\u001b[0;31mNameError\u001b[0m                                 Traceback (most recent call last)",
      "\u001b[0;32m<ipython-input-11-a681eae89b8c>\u001b[0m in \u001b[0;36m<module>\u001b[0;34m()\u001b[0m\n\u001b[1;32m     12\u001b[0m \u001b[0mprint\u001b[0m\u001b[1;33m(\u001b[0m\u001b[0mb1\u001b[0m\u001b[1;33m)\u001b[0m\u001b[1;33m\u001b[0m\u001b[0m\n\u001b[1;32m     13\u001b[0m \u001b[1;31m#b2 是局部不能直接调用\u001b[0m\u001b[1;33m\u001b[0m\u001b[1;33m\u001b[0m\u001b[0m\n\u001b[0;32m---> 14\u001b[0;31m \u001b[0mprint\u001b[0m\u001b[1;33m(\u001b[0m\u001b[0mb2\u001b[0m\u001b[1;33m)\u001b[0m\u001b[1;33m\u001b[0m\u001b[0m\n\u001b[0m\u001b[1;32m     15\u001b[0m \u001b[1;33m\u001b[0m\u001b[0m\n\u001b[1;32m     16\u001b[0m \u001b[1;33m\u001b[0m\u001b[0m\n",
      "\u001b[0;31mNameError\u001b[0m: name 'b2' is not defined"
     ]
    }
   ],
   "source": [
    "def fun():\n",
    "    global b1 \n",
    "    b1 =100\n",
    "\n",
    "    print(b1)\n",
    "    print(\"I am in fun\")\n",
    "    # a2的作用范围是fun\n",
    "    b2 = 99\n",
    "    print(b2)\n",
    "    \n",
    "    \n",
    "print(b1)\n",
    "#b2 是局部不能直接调用\n",
    "print(b2)\n",
    "\n",
    "\n"
   ]
  },
  {
   "cell_type": "markdown",
   "metadata": {},
   "source": [
    "# globals, locals函数\n",
    "- 可以通过globals和locals显示出局部变量和全局变量\n",
    "- 参看以下案例"
   ]
  },
  {
   "cell_type": "code",
   "execution_count": 17,
   "metadata": {
    "collapsed": false
   },
   "outputs": [
    {
     "name": "stdout",
     "output_type": "stream",
     "text": [
      "Locals={'c': 100, 'e': 111, 'd': 200}\n",
      "Globals={'_i14': '# globals 和 locals\\n# globals 和 locals 叫做内建函数\\na = 1\\nb = 2\\n\\ndef fun(c,d):\\n    e = 111\\n    print(\"Locals={0}\".format(c ))\\n    print(\"Globals={0}\".format(d)\\n    \\nfun(100, 200)', '__package__': None, '_i10': 'def fun():\\n    global b1 \\n    b1 =100\\n\\n    print(b1)\\n    print(\"I am in fun\")\\n    # a2的作用范围是fun\\n    b2 = 99\\n    print(b2)\\n    \\n    \\nprint(b1)\\nprint(b2)', '__': '', '_sh': <module 'IPython.core.shadowns' from 'D:\\\\Anaconda3\\\\lib\\\\site-packages\\\\IPython\\\\core\\\\shadowns.py'>, 'quit': <IPython.core.autocall.ZMQExitAutocall object at 0x0000000004BD05F8>, 'In': ['', '\\n# 认为a1是全局的# 认为a1是 \\na1 = 100\\n\\ndef fun():\\n    print(a1)\\n    print(\"I am in fun\")\\n    # a2的作用范围是fun\\n    a2 = 99\\n    print(a2)\\n    \\n    \\nprint(a1)\\nfun()\\nprint(a2)', 'def fun():\\n    global b1\\n    b1 = 100\\n    print(b1)\\n    print(\"I am in fun\")\\n    # a2的作用范围是fun\\n    b2 = 99\\n    print(b2)\\n    \\n    \\n\\n#print(b2)\\nfun()\\n# print(b1)如果在函数调用上面，则不好使，报错，为什么？？？\\nprint(b1)', 'def fun():\\n    global b1\\n    b1 = 100\\n    print(b1)\\n    print(\"I am in fun\")\\n    # a2的作用范围是fun\\n    b2 = 99\\n    print(b2)\\n    \\n    \\n\\n#print(b2)\\nfun(b1)\\n# print(b1)如果在函数调用上面，则不好使，报错，为什么？？？\\nprint(b1)', 'def fun():\\n    global b1\\n    b1 = 100\\n    print(b1)\\n    print(\"I am in fun\")\\n    # a2的作用范围是fun\\n    b2 = 99\\n    print(b2)\\n    \\n    \\n\\n#print(b2)\\nfun()\\n# print(b1)如果在函数调用上面，则不好使，报错，为什么？？？\\nprint(b1)', 'def fun():\\n    global b1\\n    b1 = 100\\n    print(b1)\\n    print(\"I am in fun\")\\n    # a2的作用范围是fun\\n    b2 = 99\\n    print(b2)\\n    \\n    \\n\\n#print(b2)\\nfun()\\n# print(b1)如果在函数调用上面，则不好使，报错，为什么？？？\\nprint(b1)', 'def fun():\\n    global b1\\n    b1 = 100\\n    print(b1)\\n    print(\"I am in fun\")\\n    # a2的作用范围是fun\\n    b2 = 99\\n    print(b2)\\n    \\n    \\nprint(b1)\\n#print(b2)\\nfun()\\n# print(b1)如果在函数调用上面，则不好使，报错，为什么？？？', 'def fun():\\n    global b1\\n    b1 = 100\\n    print(b1)\\n    print(\"I am in fun\")\\n    # a2的作用范围是fun\\n    b2 = 99\\n    print(b2)\\n    \\n    \\nprint(b1)\\n#print(b2)\\n\\n# print(b1)如果在函数调用上面，则不好使，报错，为什么？？？', 'def fun():\\n    global b1\\n    b1 = 100\\n    print(b1)\\n    print(\"I am in fun\")\\n    # a2的作用范围是fun\\n    b2 = 99\\n    print(b2)\\n    \\n    \\nprint(b1)\\nprint(b2)', 'def fun():\\n    global b1 =100\\n\\n    print(b1)\\n    print(\"I am in fun\")\\n    # a2的作用范围是fun\\n    b2 = 99\\n    print(b2)\\n    \\n    \\nprint(b1)\\nprint(b2)', 'def fun():\\n    global b1 \\n    b1 =100\\n\\n    print(b1)\\n    print(\"I am in fun\")\\n    # a2的作用范围是fun\\n    b2 = 99\\n    print(b2)\\n    \\n    \\nprint(b1)\\nprint(b2)', 'def fun():\\n    global b1 \\n    b1 =100\\n\\n    print(b1)\\n    print(\"I am in fun\")\\n    # a2的作用范围是fun\\n    b2 = 99\\n    print(b2)\\n    \\n    \\nprint(b1)\\n#b2 是局部不能直接调用\\nprint(b2)', '# globals 和 locals\\n# globals 和 locals 叫做内建函数\\na = 1\\nb = 2\\n\\ndef fun(c,d):\\n    e = 111\\n    print(\"Locals={0}\".format(locals()))\\n    print(\"Globals={0}\".format(globals()))\\n    \\nfun(100, 200)', '# globals 和 locals\\n# globals 和 locals 叫做内建函数\\na = 1\\nb = 2\\n\\ndef fun(c,d):\\n    e = 111\\n    print(\"Locals={0}\".format(c\\n                             ))\\n    print(\"Globals={0}\".format(globals()))\\n    \\nfun(100, 200)', '# globals 和 locals\\n# globals 和 locals 叫做内建函数\\na = 1\\nb = 2\\n\\ndef fun(c,d):\\n    e = 111\\n    print(\"Locals={0}\".format(c ))\\n    print(\"Globals={0}\".format(d)\\n    \\nfun(100, 200)', '# globals 和 locals\\n# globals 和 locals 叫做内建函数\\na = 1\\nb = 2\\n\\ndef fun(c,d):\\n    e = 111\\n    print(\"Locals={0}\".format(c ))\\n    print(\"Globals={0}\".format(d))\\n    \\nfun(100, 200)', '# globals 和 locals\\n# globals 和 locals 叫做内建函数\\na = 1\\nb = 2\\n\\ndef fun(c,d):\\n    e = 111\\n    print(\"Locals={0}\".format(local()))\\n    print(\"Globals={0}\".format(d))\\n    \\nfun(100, 200)', '# globals 和 locals\\n# globals 和 locals 叫做内建函数\\na = 1\\nb = 2\\n\\ndef fun(c,d):\\n    e = 111\\n    print(\"Locals={0}\".format(locals()))\\n    print(\"Globals={0}\".format(globals()))\\n    \\nfun(100, 200)'], '_i8': 'def fun():\\n    global b1\\n    b1 = 100\\n    print(b1)\\n    print(\"I am in fun\")\\n    # a2的作用范围是fun\\n    b2 = 99\\n    print(b2)\\n    \\n    \\nprint(b1)\\nprint(b2)', '_i17': '# globals 和 locals\\n# globals 和 locals 叫做内建函数\\na = 1\\nb = 2\\n\\ndef fun(c,d):\\n    e = 111\\n    print(\"Locals={0}\".format(locals()))\\n    print(\"Globals={0}\".format(globals()))\\n    \\nfun(100, 200)', '_iii': '# globals 和 locals\\n# globals 和 locals 叫做内建函数\\na = 1\\nb = 2\\n\\ndef fun(c,d):\\n    e = 111\\n    print(\"Locals={0}\".format(c ))\\n    print(\"Globals={0}\".format(d)\\n    \\nfun(100, 200)', 'b': 2, '_': '', '_i4': 'def fun():\\n    global b1\\n    b1 = 100\\n    print(b1)\\n    print(\"I am in fun\")\\n    # a2的作用范围是fun\\n    b2 = 99\\n    print(b2)\\n    \\n    \\n\\n#print(b2)\\nfun()\\n# print(b1)如果在函数调用上面，则不好使，报错，为什么？？？\\nprint(b1)', '__name__': '__main__', '___': '', '__spec__': None, '_i7': 'def fun():\\n    global b1\\n    b1 = 100\\n    print(b1)\\n    print(\"I am in fun\")\\n    # a2的作用范围是fun\\n    b2 = 99\\n    print(b2)\\n    \\n    \\nprint(b1)\\n#print(b2)\\n\\n# print(b1)如果在函数调用上面，则不好使，报错，为什么？？？', 'a1': 100, '_ii': '# globals 和 locals\\n# globals 和 locals 叫做内建函数\\na = 1\\nb = 2\\n\\ndef fun(c,d):\\n    e = 111\\n    print(\"Locals={0}\".format(c ))\\n    print(\"Globals={0}\".format(d))\\n    \\nfun(100, 200)', '_i5': 'def fun():\\n    global b1\\n    b1 = 100\\n    print(b1)\\n    print(\"I am in fun\")\\n    # a2的作用范围是fun\\n    b2 = 99\\n    print(b2)\\n    \\n    \\n\\n#print(b2)\\nfun()\\n# print(b1)如果在函数调用上面，则不好使，报错，为什么？？？\\nprint(b1)', '_i': '# globals 和 locals\\n# globals 和 locals 叫做内建函数\\na = 1\\nb = 2\\n\\ndef fun(c,d):\\n    e = 111\\n    print(\"Locals={0}\".format(local()))\\n    print(\"Globals={0}\".format(d))\\n    \\nfun(100, 200)', '_i2': 'def fun():\\n    global b1\\n    b1 = 100\\n    print(b1)\\n    print(\"I am in fun\")\\n    # a2的作用范围是fun\\n    b2 = 99\\n    print(b2)\\n    \\n    \\n\\n#print(b2)\\nfun()\\n# print(b1)如果在函数调用上面，则不好使，报错，为什么？？？\\nprint(b1)', 'fun': <function fun at 0x0000000004C757B8>, '_i13': '# globals 和 locals\\n# globals 和 locals 叫做内建函数\\na = 1\\nb = 2\\n\\ndef fun(c,d):\\n    e = 111\\n    print(\"Locals={0}\".format(c\\n                             ))\\n    print(\"Globals={0}\".format(globals()))\\n    \\nfun(100, 200)', 'exit': <IPython.core.autocall.ZMQExitAutocall object at 0x0000000004BD05F8>, '_i16': '# globals 和 locals\\n# globals 和 locals 叫做内建函数\\na = 1\\nb = 2\\n\\ndef fun(c,d):\\n    e = 111\\n    print(\"Locals={0}\".format(local()))\\n    print(\"Globals={0}\".format(d))\\n    \\nfun(100, 200)', '_i11': 'def fun():\\n    global b1 \\n    b1 =100\\n\\n    print(b1)\\n    print(\"I am in fun\")\\n    # a2的作用范围是fun\\n    b2 = 99\\n    print(b2)\\n    \\n    \\nprint(b1)\\n#b2 是局部不能直接调用\\nprint(b2)', '__doc__': 'Automatically created module for IPython interactive environment', '__loader__': None, '_oh': {}, 'get_ipython': <bound method InteractiveShell.get_ipython of <ipykernel.zmqshell.ZMQInteractiveShell object at 0x0000000004B93AC8>>, '__builtins__': <module 'builtins' (built-in)>, '_i3': 'def fun():\\n    global b1\\n    b1 = 100\\n    print(b1)\\n    print(\"I am in fun\")\\n    # a2的作用范围是fun\\n    b2 = 99\\n    print(b2)\\n    \\n    \\n\\n#print(b2)\\nfun(b1)\\n# print(b1)如果在函数调用上面，则不好使，报错，为什么？？？\\nprint(b1)', '_ih': ['', '\\n# 认为a1是全局的# 认为a1是 \\na1 = 100\\n\\ndef fun():\\n    print(a1)\\n    print(\"I am in fun\")\\n    # a2的作用范围是fun\\n    a2 = 99\\n    print(a2)\\n    \\n    \\nprint(a1)\\nfun()\\nprint(a2)', 'def fun():\\n    global b1\\n    b1 = 100\\n    print(b1)\\n    print(\"I am in fun\")\\n    # a2的作用范围是fun\\n    b2 = 99\\n    print(b2)\\n    \\n    \\n\\n#print(b2)\\nfun()\\n# print(b1)如果在函数调用上面，则不好使，报错，为什么？？？\\nprint(b1)', 'def fun():\\n    global b1\\n    b1 = 100\\n    print(b1)\\n    print(\"I am in fun\")\\n    # a2的作用范围是fun\\n    b2 = 99\\n    print(b2)\\n    \\n    \\n\\n#print(b2)\\nfun(b1)\\n# print(b1)如果在函数调用上面，则不好使，报错，为什么？？？\\nprint(b1)', 'def fun():\\n    global b1\\n    b1 = 100\\n    print(b1)\\n    print(\"I am in fun\")\\n    # a2的作用范围是fun\\n    b2 = 99\\n    print(b2)\\n    \\n    \\n\\n#print(b2)\\nfun()\\n# print(b1)如果在函数调用上面，则不好使，报错，为什么？？？\\nprint(b1)', 'def fun():\\n    global b1\\n    b1 = 100\\n    print(b1)\\n    print(\"I am in fun\")\\n    # a2的作用范围是fun\\n    b2 = 99\\n    print(b2)\\n    \\n    \\n\\n#print(b2)\\nfun()\\n# print(b1)如果在函数调用上面，则不好使，报错，为什么？？？\\nprint(b1)', 'def fun():\\n    global b1\\n    b1 = 100\\n    print(b1)\\n    print(\"I am in fun\")\\n    # a2的作用范围是fun\\n    b2 = 99\\n    print(b2)\\n    \\n    \\nprint(b1)\\n#print(b2)\\nfun()\\n# print(b1)如果在函数调用上面，则不好使，报错，为什么？？？', 'def fun():\\n    global b1\\n    b1 = 100\\n    print(b1)\\n    print(\"I am in fun\")\\n    # a2的作用范围是fun\\n    b2 = 99\\n    print(b2)\\n    \\n    \\nprint(b1)\\n#print(b2)\\n\\n# print(b1)如果在函数调用上面，则不好使，报错，为什么？？？', 'def fun():\\n    global b1\\n    b1 = 100\\n    print(b1)\\n    print(\"I am in fun\")\\n    # a2的作用范围是fun\\n    b2 = 99\\n    print(b2)\\n    \\n    \\nprint(b1)\\nprint(b2)', 'def fun():\\n    global b1 =100\\n\\n    print(b1)\\n    print(\"I am in fun\")\\n    # a2的作用范围是fun\\n    b2 = 99\\n    print(b2)\\n    \\n    \\nprint(b1)\\nprint(b2)', 'def fun():\\n    global b1 \\n    b1 =100\\n\\n    print(b1)\\n    print(\"I am in fun\")\\n    # a2的作用范围是fun\\n    b2 = 99\\n    print(b2)\\n    \\n    \\nprint(b1)\\nprint(b2)', 'def fun():\\n    global b1 \\n    b1 =100\\n\\n    print(b1)\\n    print(\"I am in fun\")\\n    # a2的作用范围是fun\\n    b2 = 99\\n    print(b2)\\n    \\n    \\nprint(b1)\\n#b2 是局部不能直接调用\\nprint(b2)', '# globals 和 locals\\n# globals 和 locals 叫做内建函数\\na = 1\\nb = 2\\n\\ndef fun(c,d):\\n    e = 111\\n    print(\"Locals={0}\".format(locals()))\\n    print(\"Globals={0}\".format(globals()))\\n    \\nfun(100, 200)', '# globals 和 locals\\n# globals 和 locals 叫做内建函数\\na = 1\\nb = 2\\n\\ndef fun(c,d):\\n    e = 111\\n    print(\"Locals={0}\".format(c\\n                             ))\\n    print(\"Globals={0}\".format(globals()))\\n    \\nfun(100, 200)', '# globals 和 locals\\n# globals 和 locals 叫做内建函数\\na = 1\\nb = 2\\n\\ndef fun(c,d):\\n    e = 111\\n    print(\"Locals={0}\".format(c ))\\n    print(\"Globals={0}\".format(d)\\n    \\nfun(100, 200)', '# globals 和 locals\\n# globals 和 locals 叫做内建函数\\na = 1\\nb = 2\\n\\ndef fun(c,d):\\n    e = 111\\n    print(\"Locals={0}\".format(c ))\\n    print(\"Globals={0}\".format(d))\\n    \\nfun(100, 200)', '# globals 和 locals\\n# globals 和 locals 叫做内建函数\\na = 1\\nb = 2\\n\\ndef fun(c,d):\\n    e = 111\\n    print(\"Locals={0}\".format(local()))\\n    print(\"Globals={0}\".format(d))\\n    \\nfun(100, 200)', '# globals 和 locals\\n# globals 和 locals 叫做内建函数\\na = 1\\nb = 2\\n\\ndef fun(c,d):\\n    e = 111\\n    print(\"Locals={0}\".format(locals()))\\n    print(\"Globals={0}\".format(globals()))\\n    \\nfun(100, 200)'], 'b1': 100, '_i6': 'def fun():\\n    global b1\\n    b1 = 100\\n    print(b1)\\n    print(\"I am in fun\")\\n    # a2的作用范围是fun\\n    b2 = 99\\n    print(b2)\\n    \\n    \\nprint(b1)\\n#print(b2)\\nfun()\\n# print(b1)如果在函数调用上面，则不好使，报错，为什么？？？', '_i12': '# globals 和 locals\\n# globals 和 locals 叫做内建函数\\na = 1\\nb = 2\\n\\ndef fun(c,d):\\n    e = 111\\n    print(\"Locals={0}\".format(locals()))\\n    print(\"Globals={0}\".format(globals()))\\n    \\nfun(100, 200)', '_i1': '\\n# 认为a1是全局的# 认为a1是 \\na1 = 100\\n\\ndef fun():\\n    print(a1)\\n    print(\"I am in fun\")\\n    # a2的作用范围是fun\\n    a2 = 99\\n    print(a2)\\n    \\n    \\nprint(a1)\\nfun()\\nprint(a2)', '_i9': 'def fun():\\n    global b1 =100\\n\\n    print(b1)\\n    print(\"I am in fun\")\\n    # a2的作用范围是fun\\n    b2 = 99\\n    print(b2)\\n    \\n    \\nprint(b1)\\nprint(b2)', 'a': 1, 'Out': {}, '_dh': ['C:\\\\Users\\\\fan'], '__builtin__': <module 'builtins' (built-in)>, '_i15': '# globals 和 locals\\n# globals 和 locals 叫做内建函数\\na = 1\\nb = 2\\n\\ndef fun(c,d):\\n    e = 111\\n    print(\"Locals={0}\".format(c ))\\n    print(\"Globals={0}\".format(d))\\n    \\nfun(100, 200)'}\n"
     ]
    }
   ],
   "source": [
    "# globals 和 locals\n",
    "# globals 和 locals 叫做内建函数\n",
    "a = 1\n",
    "b = 2\n",
    "\n",
    "def fun(c,d):\n",
    "    e = 111\n",
    "    print(\"Locals={0}\".format(locals()))\n",
    "    print(\"Globals={0}\".format(globals()))\n",
    "    \n",
    "fun(100, 200)"
   ]
  },
  {
   "cell_type": "markdown",
   "metadata": {},
   "source": [
    "# eval()函数\n",
    "- 把一个字符串当成一个表达式来执行， 返回表达式执行后的结果\n",
    "- 语法：\n",
    "      eval(string_code, globals=None, locals=None)"
   ]
  },
  {
   "cell_type": "markdown",
   "metadata": {},
   "source": [
    "# exec()函数\n",
    "- 跟eval功能类似， 但是，不返回结果\n",
    "- 语法：\n",
    "\n",
    "      exec(string_code, globals=None, locals=None)"
   ]
  },
  {
   "cell_type": "code",
   "execution_count": 4,
   "metadata": {
    "collapsed": false
   },
   "outputs": [
    {
     "name": "stdout",
     "output_type": "stream",
     "text": [
      "300\n",
      "300\n"
     ]
    }
   ],
   "source": [
    "x  =  100\n",
    "y  = 200\n",
    "# 执行x+y# 执行x+y\n",
    "# z = x + y# z = x  \n",
    "z1 = x + y\n",
    "z2 = eval(\"x+y\")\n",
    "\n",
    "print(z1)\n",
    "print(z2)\n"
   ]
  },
  {
   "cell_type": "code",
   "execution_count": 5,
   "metadata": {
    "collapsed": false
   },
   "outputs": [
    {
     "name": "stdout",
     "output_type": "stream",
     "text": [
      "x+y: 300\n",
      "300\n",
      "None\n"
     ]
    }
   ],
   "source": [
    "# exec示例\n",
    "x = 100\n",
    "y = 200\n",
    "# 执行x+y\n",
    "# z = x + y\n",
    "z1 = x + y\n",
    "# 1, 注意字符串中引号的写法\n",
    "# 2. 比对exec执行结果和代码执行结果\n",
    "z2 = exec(\"print('x+y:', x+y)\")\n",
    "\n",
    "print(z1)\n",
    "print(z2)\n"
   ]
  },
  {
   "cell_type": "markdown",
   "metadata": {},
   "source": [
    "# 递归函数\n",
    "- 函数直接或者间接调用自身\n",
    "- 优点：简洁，理解容易\n",
    "- 缺点：对递归深度有限制，消耗资源大\n",
    "- python对递归深度有限制，超过限制报错\n",
    "- 在写递归程序的时候，一定注意结束条件"
   ]
  },
  {
   "cell_type": "code",
   "execution_count": 13,
   "metadata": {
    "collapsed": false
   },
   "outputs": [
    {
     "name": "stdout",
     "output_type": "stream",
     "text": [
      "2\n",
      "55\n"
     ]
    }
   ],
   "source": [
    "# 斐波那契额数列\n",
    "# 一列数字，第一个值是1， 第二个也是1， 从第三个开始，每一个数字的值等于前两个数字出现的值的和\n",
    "# 数学公式为： f(1) = 1, f(2) = 1, f(n) = f(n-1) + f(n-2)\n",
    "# 例如： 1,1，2，3,5,8,13.。。。。。。。。\n",
    "\n",
    "# 下面求斐波那契数列函数有一定问题，比如n一开始就是负数，如何修正\n",
    "# n表示求第n个数子的斐波那契数列的值\n",
    "def fib(n):\n",
    "    if n == 1:\n",
    "        return 1\n",
    "    \n",
    "    if n == 2:\n",
    "        return 1\n",
    "    \n",
    "    # 思考：为什么后面return能够正确执行，而不用else语句\n",
    "    return fib(n-1) + fib(n-2)\n",
    "\n",
    "print(fib(3))\n",
    "print(fib(10))"
   ]
  },
  {
   "cell_type": "markdown",
   "metadata": {},
   "source": [
    "# 内置数据结构（变量类型）\n",
    "- list\n",
    "- set\n",
    "- dict\n",
    "- tuple \n",
    "## list(列表）\n",
    "- 一组由顺序的数据的组合\n",
    "- 创建列表\n",
    "    - 空列表"
   ]
  },
  {
   "cell_type": "code",
   "execution_count": 17,
   "metadata": {
    "collapsed": false
   },
   "outputs": [
    {
     "name": "stdout",
     "output_type": "stream",
     "text": [
      "<class 'list'>\n",
      "<class 'list'>\n",
      "[100]\n",
      "<class 'list'>\n",
      "[2, 3, 1, 4, 6, 4, 6]\n",
      "<class 'list'>\n",
      "[]\n"
     ]
    }
   ],
   "source": [
    "# 创建空列表\n",
    "l1 = []\n",
    "# type是内置函数，负责打印出变量类型\n",
    "print(type(l1))\n",
    "\n",
    "# 2. 创建带值的列表\n",
    "l2 = [100]\n",
    "print(type(l2))\n",
    "print(l2)\n",
    "\n",
    "# 3. 创建列表，带多个值\n",
    "l3 = [2,3,1,4,6,4,6]\n",
    "print(type(l3))\n",
    "print(l3)\n",
    "\n",
    "# 4. 使用list()来创建列表\n",
    "l4 = list()\n",
    "print(type(l4))\n",
    "print(l4)"
   ]
  },
  {
   "cell_type": "markdown",
   "metadata": {},
   "source": [
    "# 列表常用操作\n",
    "- 访问\n",
    "    - 使用下标操作（索引）\n",
    "    - 列表的位置是从0开始\n",
    "- 分片操作\n",
    "    - 对列表进行任意一段的截取\n",
    "    - l[:]"
   ]
  },
  {
   "cell_type": "code",
   "execution_count": 18,
   "metadata": {
    "collapsed": false
   },
   "outputs": [
    {
     "name": "stdout",
     "output_type": "stream",
     "text": [
      "4\n"
     ]
    }
   ],
   "source": [
    "# 下标访问列表\n",
    "l = [3,2,1,4,6,3,2]\n",
    "\n",
    "print(l[3])"
   ]
  },
  {
   "cell_type": "code",
   "execution_count": 19,
   "metadata": {
    "collapsed": false
   },
   "outputs": [
    {
     "name": "stdout",
     "output_type": "stream",
     "text": [
      "[2, 1, 4]\n",
      "[3, 2, 1, 4, 6, 3, 2]\n",
      "[3, 2, 1, 4]\n",
      "[1, 4, 6, 3, 2]\n"
     ]
    }
   ],
   "source": [
    "# 分片操作\n",
    "# 注意截取的范围，包含左边的下标值，不包含右边的下标值\n",
    "print(l[1:4])\n",
    "\n",
    "# 下标值可以为空，如果不写，左边下标值默认为0， 右边下标值为最大数加一，即表示截取到最后一个数据\n",
    "print(l[:])\n",
    "print(l[:4])\n",
    "print(l[2:])"
   ]
  },
  {
   "cell_type": "code",
   "execution_count": 20,
   "metadata": {
    "collapsed": false
   },
   "outputs": [
    {
     "name": "stdout",
     "output_type": "stream",
     "text": [
      "[3, 2, 1, 4, 6, 3, 2]\n",
      "[2, 1, 4, 6, 3]\n",
      "[2, 4, 3]\n",
      "[1, 4, 6, 3, 2]\n"
     ]
    }
   ],
   "source": [
    "print(l)\n",
    "# 分片可以控制增长幅度，默认增长幅度为1\n",
    "print(l[1:6:1])\n",
    "\n",
    "# 打印从下标1开始的数字，每次隔一个\n",
    "print(l[1:6:2])\n",
    "\n",
    "# 下标可以超出范围，超出后不在考虑多余下标内容\n",
    "print(l[2:10])\n",
    "\n",
    "# 下标值，增长幅度可以为负数\n",
    "# 为负数，表明顺序是从右往左\n",
    "# 规定： 数组最后一个数字的下标是-1\n"
   ]
  },
  {
   "cell_type": "code",
   "execution_count": 21,
   "metadata": {
    "collapsed": false
   },
   "outputs": [
    {
     "name": "stdout",
     "output_type": "stream",
     "text": [
      "[3, 2, 1, 4, 6, 3, 2]\n",
      "[]\n",
      "[4, 6]\n",
      "[3, 6]\n"
     ]
    }
   ],
   "source": [
    "# 分片之负数下标\n",
    "print(l)\n",
    "# 下面显示的是为空，因为默认分片总是从左向右截取\n",
    "# 即正常情况，分片左边的值一定小于右边的值\n",
    "print(l[-2:-4])\n",
    "print(l[-4:-2])\n",
    "# 如果分片一定左边值比右边大，则步长参数需要使用负数\n",
    "# 此案例为一个list直接正反颠倒提供了一种思路\n",
    "print(l[-2:-4:-1])"
   ]
  },
  {
   "cell_type": "markdown",
   "metadata": {},
   "source": [
    "# 分片操作是生成一个新的list\n",
    "- 内置函数id，负责显示一个变量或者数据的唯一确定编号"
   ]
  },
  {
   "cell_type": "code",
   "execution_count": 22,
   "metadata": {
    "collapsed": false
   },
   "outputs": [
    {
     "name": "stdout",
     "output_type": "stream",
     "text": [
      "1659506256\n",
      "1659509456\n",
      "1659506256\n",
      "101\n",
      "100\n"
     ]
    }
   ],
   "source": [
    "# id函数举例\n",
    "a = 100\n",
    "b = 200\n",
    "print(id(a))\n",
    "print(id(b))\n",
    "\n",
    "c = a\n",
    "print(id(c))\n",
    "\n",
    "# 如果a跟c只想一份数据，则更改a的值同样也会更改c的值\n",
    "# 但是，显示结果并非如此，为什么？\n",
    "a = 101\n",
    "print(a)\n",
    "print(c)"
   ]
  },
  {
   "cell_type": "code",
   "execution_count": 23,
   "metadata": {
    "collapsed": false
   },
   "outputs": [
    {
     "name": "stdout",
     "output_type": "stream",
     "text": [
      "83839368\n",
      "83839688\n",
      "83839688\n",
      "[3, 100, 56, 76, 32, 21, 43, 5]\n",
      "[3, 4, 56, 76, 32, 21, 43, 5]\n",
      "[3, 100, 56, 76, 32, 21, 43, 5]\n",
      "[3, 100, 56, 76, 32, 21, 43, 5]\n"
     ]
    }
   ],
   "source": [
    "\n",
    "# 通过id可以直接判断出分片是从新生成了一份数据还是使用的同一份数据# 通过id可以 \n",
    "l = [3,4,56,76,32,21,43,5]\n",
    "ll = l[:]\n",
    "lll = ll\n",
    "# 如果两个id值一样，则表明分片产生的列表是使用的同一地址同一份数据\n",
    "# 否则，则表明分片是从新生成了一份数据，即一个新的列表，然后把数值拷贝到新列表中\n",
    "print(id(l))\n",
    "print(id(ll))\n",
    "print(id(lll))\n",
    "\n",
    "# 通过id知道，ll和lll是同一份数据，验证代码如下\n",
    "l[1] = 100\n",
    "print(l)\n",
    "print(ll)\n",
    "\n",
    "ll[1] = 100\n",
    "print(ll)\n",
    "print(lll)"
   ]
  },
  {
   "cell_type": "code",
   "execution_count": null,
   "metadata": {
    "collapsed": true
   },
   "outputs": [],
   "source": []
  }
 ],
 "metadata": {
  "anaconda-cloud": {},
  "kernelspec": {
   "display_name": "Python [default]",
   "language": "python",
   "name": "python3"
  },
  "language_info": {
   "codemirror_mode": {
    "name": "ipython",
    "version": 3
   },
   "file_extension": ".py",
   "mimetype": "text/x-python",
   "name": "python",
   "nbconvert_exporter": "python",
   "pygments_lexer": "ipython3",
   "version": "3.5.2"
  }
 },
 "nbformat": 4,
 "nbformat_minor": 1
}
