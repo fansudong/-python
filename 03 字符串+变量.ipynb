{
 "cells": [
  {
   "cell_type": "markdown",
   "metadata": {},
   "source": [
    "## 字符串\n",
    "- 转义字符\n",
    "- 格式化\n",
    "- 内建函数（后延）\n",
    "\n",
    "## 转移字符\n",
    "- 用一个特殊的方法表示出一系列不方便写出的内容，比如回车键，换行键，退格键\n",
    "- 借助反斜杠字符，一旦字符串中出现反斜杆，则反斜杠后面一个或几个字符表示的已经不是原来的意思了，进行了转义\n",
    "- 在字符串中，一旦出现反斜杠一定要小心，可能会出现转义\n",
    "- 不同系统对换行操作有不同的表示\n",
    "    - Windows: \\n\n",
    "    - Linux： \\r\\n"
   ]
  },
  {
   "cell_type": "code",
   "execution_count": 1,
   "metadata": {
    "collapsed": false
   },
   "outputs": [
    {
     "name": "stdout",
     "output_type": "stream",
     "text": [
      "i love wangxiaoqin\n"
     ]
    }
   ],
   "source": [
    "s = \"i love wangxiaoqin\"\n",
    "print(s)"
   ]
  },
  {
   "cell_type": "code",
   "execution_count": 10,
   "metadata": {
    "collapsed": false
   },
   "outputs": [
    {
     "name": "stdout",
     "output_type": "stream",
     "text": [
      "Let's go\n",
      "Let's go\n",
      "c:\\user\n",
      "i love \r\n",
      "wangxiaoqin\n"
     ]
    }
   ],
   "source": [
    "#如果想表示出Let's go来\n",
    "#1.可以使用嵌套引号，即外层使用双引号\n",
    "#2. 转义字符\n",
    "s =\"Let's go\"\n",
    "print(s)\n",
    "\n",
    "#\\' == '\n",
    "ss = 'Let\\'s go'\n",
    "print(ss)\n",
    "\n",
    "# \\\\ == \\\n",
    "sss = \"c:\\\\user\"\n",
    "print(sss)\n",
    "\n",
    "#回车换行符\\r\\n\n",
    "\n",
    "s1 = \"i love \\r\\nwangxiaoqin\"\n",
    "print(s1)\n"
   ]
  },
  {
   "cell_type": "markdown",
   "metadata": {},
   "source": [
    "## 字符串格式化\n",
    "- 把字符串按照一定格式打印或填充\n",
    "- 格式化有两种方法\n",
    "    - 利用百分号（%）\n",
    "    - 利用format函数\n"
   ]
  },
  {
   "cell_type": "code",
   "execution_count": 11,
   "metadata": {
    "collapsed": true
   },
   "outputs": [],
   "source": [
    "s = \"xxx,您好。\""
   ]
  },
  {
   "cell_type": "markdown",
   "metadata": {},
   "source": [
    "### 利用百分号格式化\n",
    "- %d:此处应该放一个整数\n",
    "- %s:此处应该放一个整数\n"
   ]
  },
  {
   "cell_type": "code",
   "execution_count": 12,
   "metadata": {
    "collapsed": false
   },
   "outputs": [
    {
     "name": "stdout",
     "output_type": "stream",
     "text": [
      "I am %d years old\n",
      "I am 18 years old\n"
     ]
    }
   ],
   "source": [
    "s = \"I am %d years old\"\n",
    "#留意下面两句话的区别和结果\n",
    "print(s)\n",
    "print(s%18)"
   ]
  },
  {
   "cell_type": "code",
   "execution_count": 18,
   "metadata": {
    "collapsed": false
   },
   "outputs": [
    {
     "name": "stdout",
     "output_type": "stream",
     "text": [
      "I am %s,i am %d years old\n",
      "I am tulinxuyan,i am 12 years old\n"
     ]
    }
   ],
   "source": [
    "s = \"I am %s,i am %d years old\"\n",
    "#注意一下表达式的出错原因\n",
    "#如果字符串有占位符，则有几个占位符必须用几个世纪内容代替，或者一个也不要\n",
    "\n",
    "#如果出现多个占位符，则相应的内容需要用括号扩起来\n",
    "\n",
    "print(s)\n",
    "print(s%(\"tulinxuyan\",12))"
   ]
  },
  {
   "cell_type": "markdown",
   "metadata": {},
   "source": [
    "### format函数格式化字符串\n",
    "- 直接用format函数格式化\n",
    "- 推荐使用这种方法\n",
    "- 在使用上以{}和： 代替，后面用format带参数完成\n"
   ]
  },
  {
   "cell_type": "code",
   "execution_count": 33,
   "metadata": {
    "collapsed": false
   },
   "outputs": [
    {
     "name": "stdout",
     "output_type": "stream",
     "text": [
      "i love wangxiaoqin\n",
      "yes,i am 18 years old ,i love wangxiaoqin\n",
      "i lovewangxiaoqin\n"
     ]
    }
   ],
   "source": [
    "s = \"i love {}\".format(\"wangxiaoqin\")\n",
    "print(s)\n",
    "\n",
    "s = \"yes,i am {1} years old ,i love {0}\".format(\"wangxiaoqin\",18)\n",
    "print(s)\n",
    "\n",
    "ss = 'wangxiaoqin'\n",
    "print(\"i love\" +ss)"
   ]
  },
  {
   "cell_type": "markdown",
   "metadata": {},
   "source": [
    "## None\n",
    "- 表示什么都没有\n",
    "- 如果函数没有返回值，可以返回None\n",
    "- 用来占位置\n",
    "- 用来接触变量绑定"
   ]
  },
  {
   "cell_type": "markdown",
   "metadata": {},
   "source": [
    "# 表达式\n",
    "- 由一个或几个数字或者变量和运算符组成的一行代码\n",
    "# 运算符\n",
    "- 运算符分类\n",
    "    - 算数运算符\n",
    "    - 比较或者关系运算符\n",
    "    - 赋值运算符\n",
    "    - 位运算\n",
    "    - 成员运算符\n",
    "    - 逻辑运算符\n",
    "    "
   ]
  },
  {
   "cell_type": "markdown",
   "metadata": {},
   "source": [
    "# 算数运算符\n",
    "- 进行算数运算符的符号\n",
    "- python没有自增自减运算符"
   ]
  },
  {
   "cell_type": "code",
   "execution_count": 34,
   "metadata": {
    "collapsed": false
   },
   "outputs": [
    {
     "name": "stdout",
     "output_type": "stream",
     "text": [
      "2.25\n",
      "1\n",
      "2\n",
      "6561\n"
     ]
    }
   ],
   "source": [
    "# +，-和正常算术运算一样\n",
    "# 除号用斜杆/代替\n",
    "a = 9/4\n",
    "print(a)\n",
    "\n",
    "# %为取余运算\n",
    "a = 9%4\n",
    "print(a)\n",
    "\n",
    "# //为去上运算，也叫地板除\n",
    "a= 9//4\n",
    "print(a)\n",
    "\n",
    "# **表示幂运算\n",
    "a = 9**4 #即9的4次方\n",
    "print(a)\n"
   ]
  },
  {
   "cell_type": "markdown",
   "metadata": {},
   "source": [
    "## 比较运算符\n",
    "- 比较的结果是布尔值，即True/False"
   ]
  },
  {
   "cell_type": "code",
   "execution_count": 37,
   "metadata": {
    "collapsed": false
   },
   "outputs": [
    {
     "name": "stdout",
     "output_type": "stream",
     "text": [
      "False\n"
     ]
    }
   ],
   "source": [
    "# == ,等于号\n",
    "a = 3**4\n",
    "b = a == 80\n",
    "print(b)\n",
    "# !=\n",
    "# >,<,<=,<="
   ]
  },
  {
   "cell_type": "markdown",
   "metadata": {},
   "source": [
    "## 赋值运算符"
   ]
  },
  {
   "cell_type": "code",
   "execution_count": 38,
   "metadata": {
    "collapsed": false
   },
   "outputs": [
    {
     "name": "stdout",
     "output_type": "stream",
     "text": [
      "7\n"
     ]
    }
   ],
   "source": [
    "# =，赋值\n",
    "a = 0\n",
    "c = a =4\n",
    "\n",
    "# +=\n",
    "a = 0\n",
    "a += 7 #a = a+7\n",
    "print(a)\n",
    "\n",
    "# -=,*=,/=,%==..."
   ]
  },
  {
   "cell_type": "markdown",
   "metadata": {},
   "source": [
    "# 逻辑运算符\n",
    "- 对布尔值进行计算的符号\n",
    "- and 逻辑与\n",
    "- or 逻辑或\n",
    "- not 逻辑非\n",
    "- python中没有异或运算\n",
    "- 逻辑运算的短路问题\n",
    "    - 按照运算顺序计算，一旦能够确定式子的值，则不再进行计算后面的，直接返回"
   ]
  },
  {
   "cell_type": "code",
   "execution_count": 39,
   "metadata": {
    "collapsed": false
   },
   "outputs": [
    {
     "name": "stdout",
     "output_type": "stream",
     "text": [
      "True\n"
     ]
    }
   ],
   "source": [
    "#逻辑运算符\n",
    "a = True\n",
    "b = False\n",
    "c = True\n",
    "d = a and b or c\n",
    "print(d)"
   ]
  },
  {
   "cell_type": "code",
   "execution_count": 40,
   "metadata": {
    "collapsed": true
   },
   "outputs": [],
   "source": [
    "# 短路问题案例\n",
    "\n",
    "# 下面逻辑式，a的值一定为True，则or后面的式子不再计算\n",
    "a = True or xxxx"
   ]
  },
  {
   "cell_type": "markdown",
   "metadata": {},
   "source": [
    "# 成员运算符\n",
    "- 用来检测某一个变量是否是另一个变量的成员\n",
    "- in \n",
    "- not in"
   ]
  },
  {
   "cell_type": "code",
   "execution_count": 41,
   "metadata": {
    "collapsed": false
   },
   "outputs": [
    {
     "name": "stdout",
     "output_type": "stream",
     "text": [
      "False\n"
     ]
    }
   ],
   "source": [
    "#案例\n",
    "l = [1,2,3,4,5]\n",
    "a = 7\n",
    "b = a in l\n",
    "print(b)"
   ]
  },
  {
   "cell_type": "markdown",
   "metadata": {},
   "source": [
    "## 身份运算符\n",
    "- is:用来检测两个变量是否是同一个变量\n",
    "    - 语法 var1 is var2\n",
    "- is not：两个变量不是同一变量"
   ]
  },
  {
   "cell_type": "code",
   "execution_count": 42,
   "metadata": {
    "collapsed": false
   },
   "outputs": [
    {
     "name": "stdout",
     "output_type": "stream",
     "text": [
      "True\n",
      "False\n"
     ]
    }
   ],
   "source": [
    "a = 9\n",
    "b = 9\n",
    "print(a is b)\n",
    "\n",
    "a = \"i love wangxiaoqin\"\n",
    "b = \"i love wangxiaoqin\"\n",
    "print(a is b)"
   ]
  },
  {
   "cell_type": "markdown",
   "metadata": {},
   "source": [
    "## 运算符优先级问题\n",
    "- 永远记住，括号具有最高优先级"
   ]
  }
 ],
 "metadata": {
  "kernelspec": {
   "display_name": "Python [default]",
   "language": "python",
   "name": "python3"
  },
  "language_info": {
   "codemirror_mode": {
    "name": "ipython",
    "version": 3
   },
   "file_extension": ".py",
   "mimetype": "text/x-python",
   "name": "python",
   "nbconvert_exporter": "python",
   "pygments_lexer": "ipython3",
   "version": "3.5.2"
  }
 },
 "nbformat": 4,
 "nbformat_minor": 1
}
