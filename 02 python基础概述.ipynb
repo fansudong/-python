{
 "cells": [
  {
   "cell_type": "markdown",
   "metadata": {},
   "source": [
    "# 环境安装\n",
    "- 推荐virtualbox+Ubuntu\n",
    "- 套件推荐anaconda+pycharm\n",
    "- 如果机器内存大于4G，推荐虚拟器下启动系统\n",
    "- 小与4G的话，就用windows下"
   ]
  },
  {
   "cell_type": "code",
   "execution_count": 2,
   "metadata": {
    "collapsed": false
   },
   "outputs": [
    {
     "name": "stdout",
     "output_type": "stream",
     "text": [
      "Hello world\n"
     ]
    },
    {
     "data": {
      "text/plain": [
       "'\\n这里边的内容机器不看了\\n'"
      ]
     },
     "execution_count": 2,
     "metadata": {},
     "output_type": "execute_result"
    }
   ],
   "source": [
    "#代码的作用\n",
    "#1.给人看\n",
    "#2.给机器看\n",
    "#注释是纯给人看的 \n",
    "print(\"Hello world\")\n",
    "'''\n",
    "这里边的内容机器不看了\n",
    "'''\n",
    "\n",
    "\n"
   ]
  },
  {
   "cell_type": "markdown",
   "metadata": {},
   "source": [
    "# 注释\n",
    "- 机器不去执行注释的内容\n",
    "- 注释一般用自然语言写\n",
    "- 注释的写法\n",
    "    - 行注释:以#开头，可以单独成行，也可以在某行代码后边\n",
    "    - 块注释：好几行代码或内容,以三个单引号或者三个双引号"
   ]
  },
  {
   "cell_type": "markdown",
   "metadata": {},
   "source": [
    "# 变量\n",
    "- 程序=数据结构+算法\n",
    "- 变量就是可以重复使用的一个量，或者叫一个代号\n",
    "- 变量命名规则\n",
    "    - 变量命名可以包含数字，大小写字母，下划线\n",
    "    - 数字不可以打头\n",
    "        - 4man，5for，是不可以的\n",
    "        - man4，for5，是可以的\n",
    "    - 一般在python中，以下划线开头的内容具体特殊含义，不建议使用\n",
    "        - 比如 : _age , _name 不建议使用\n",
    "    - 大小写不一样，俗称大小写敏感\n",
    "        - 使用具有固定含义的英文单词和缩写，如：srv=server skt= socket，一般以posix命名规则为主\n",
    "        - 驼峰命名法\n",
    "            - 名称以单词自动连接，且每个单词首字母大写\n",
    "                - 大驼峰，每个单词第一个字母大写\n",
    "                    - 在Python中给类命名使用此法\n",
    "                    - MyFirstLove，InOne\n",
    "                - 小驼峰，类似打托费，但第一个字母小写\n",
    "                    - 在Python中一般给普通变量或者函数命名\n",
    "                    - myFirstLove，inOne\n",
    "                - posix写法\n",
    "                    - 多个单词用下划线连接\n",
    "                    - 单字全部小写\n",
    "                    - my_first_love,in_one\n",
    "    - 保留字和关键字\n",
    "        - 变量命名必须避开，不能和他们重复\n",
    "        - class，def，break，for\n",
    "    "
   ]
  },
  {
   "cell_type": "code",
   "execution_count": 4,
   "metadata": {
    "collapsed": false
   },
   "outputs": [
    {
     "name": "stdout",
     "output_type": "stream",
     "text": [
      "['False', 'None', 'True', 'and', 'as', 'assert', 'break', 'class', 'continue', 'def', 'del', 'elif', 'else', 'except', 'finally', 'for', 'from', 'global', 'if', 'import', 'in', 'is', 'lambda', 'nonlocal', 'not', 'or', 'pass', 'raise', 'return', 'try', 'while', 'with', 'yield']\n"
     ]
    }
   ],
   "source": [
    "#查看关键字的方法\n",
    "import  keyword #引入关键字模块\n",
    "#打印出系统全部的关键字\n",
    "print(keyword.kwlist)"
   ]
  },
  {
   "cell_type": "markdown",
   "metadata": {},
   "source": [
    "## 变量声明\n",
    "- var_name = var_value\n",
    "- var1 = var2 = var3 = var_value\n",
    "- var1,var2,var3 = v1,v2,v3"
   ]
  },
  {
   "cell_type": "code",
   "execution_count": 12,
   "metadata": {
    "collapsed": false
   },
   "outputs": [
    {
     "name": "stdout",
     "output_type": "stream",
     "text": [
      "18\n",
      "18\n",
      "18\n",
      "18\n",
      "18\n",
      "12\n",
      "21\n",
      "45\n"
     ]
    }
   ],
   "source": [
    "#定义变量age，把18放入变量age中\n",
    "age = 18\n",
    "print(age)\n",
    "print(18)\n",
    "\n",
    "#给age1，age2，age3放入同样一个值\n",
    "age1 = age2 = age3 = 18\n",
    "print(age1)\n",
    "print(age2)\n",
    "print(age3)\n",
    "\n",
    "age4,age5,age6 = 12,21,45\n",
    "print(age4)\n",
    "print(age5)\n",
    "print(age6)"
   ]
  },
  {
   "cell_type": "markdown",
   "metadata": {},
   "source": [
    "## 变量的类型\n",
    "- 严格意义上讲，python只有一个类型\n",
    "- 标准数据一共有六种\n",
    "    - 数字类型number\n",
    "    - 字符串类型string\n",
    "    - 列表list\n",
    "    - 元组tuple\n",
    "    - 字典 Dictionary\n",
    "    - 集合set"
   ]
  },
  {
   "cell_type": "markdown",
   "metadata": {},
   "source": [
    "## Number数字类型\n",
    "- 数字类型没有大小限制\n",
    "### 整数\n",
    "- 没有小数部分，是表示个数的数字\n",
    "- 自然数，0，负自然数\n",
    "- 整数分进制\n",
    "    - 二进制\n",
    "        - 计算机常用\n",
    "        - 是计算机唯一能够直接理解的数字\n",
    "        - 表示为0b开头的0,1代码\n",
    "        - 比如 0b1101,0b10001\n",
    "    - 八进制\n",
    "        - 不常用\n",
    "        - 以0o开头的包含0-7的数字\n",
    "    - 十六进制\n",
    "        - 缝16进1\n",
    "        - 其实是每四位二进制表示一位十六进制数\n",
    "        - 包含0-9，a-f\n",
    "        - 数字上以0x开头表示\n",
    "    - 十进制\n",
    "        - 18， 89， 178\n",
    "     \n"
   ]
  },
  {
   "cell_type": "code",
   "execution_count": 20,
   "metadata": {
    "collapsed": false
   },
   "outputs": [
    {
     "name": "stdout",
     "output_type": "stream",
     "text": [
      "18\n",
      "18\n",
      "18\n",
      "18\n"
     ]
    }
   ],
   "source": [
    "age = 18\n",
    "print(age)\n",
    "age= 0b10010\n",
    "print(age)\n",
    "age = 0o22\n",
    "print(age)\n",
    "age = 0x12\n",
    "print(age)"
   ]
  },
  {
   "cell_type": "markdown",
   "metadata": {},
   "source": [
    "### 浮点数\n",
    "- 小数\n",
    "- 计算机里边表示浮点数有条件可以省略\n",
    "- 3.115\n",
    "- 0.3\n",
    "- .5\n",
    "- 科学计数法\n",
    "    - 定义与数学一样\n",
    "    - 写法是用e/E后面跟整数表示10的指数\n",
    "    - 176.23 = 1.76e2\n",
    "    - 0.876 = 8.76e-1"
   ]
  },
  {
   "cell_type": "code",
   "execution_count": 21,
   "metadata": {
    "collapsed": false
   },
   "outputs": [
    {
     "name": "stdout",
     "output_type": "stream",
     "text": [
      "156.34\n",
      "0.2\n",
      "0.6\n"
     ]
    }
   ],
   "source": [
    "height = 156.34\n",
    "print(height)\n",
    "\n",
    "shili = 0.2\n",
    "print(shili)\n",
    "\n",
    "shili = .6\n",
    "print(shili)"
   ]
  },
  {
   "cell_type": "markdown",
   "metadata": {},
   "source": [
    "## 复数complex\n",
    "- 定义与数学一样\n",
    "- 一个由实部和虚部构成的数学\n",
    "- 虚数用j/J表示\n",
    "- 5+3j"
   ]
  },
  {
   "cell_type": "markdown",
   "metadata": {},
   "source": [
    "## 布尔值\n",
    "- 表示真假的值\n",
    "- 只有两个值，True/False\n",
    "- 布尔值可以和数字直接操作\n"
   ]
  },
  {
   "cell_type": "code",
   "execution_count": 22,
   "metadata": {
    "collapsed": false
   },
   "outputs": [
    {
     "name": "stdout",
     "output_type": "stream",
     "text": [
      "19\n"
     ]
    }
   ],
   "source": [
    "#布尔值操作\n",
    "age = 18 + True\n",
    "print(age)"
   ]
  },
  {
   "cell_type": "markdown",
   "metadata": {},
   "source": [
    "## 字符串\n",
    "- 用来表示一串文字信息\n",
    "- 如何表示\n",
    "     - 单引号\n",
    "     - 双引号\n",
    "     - 三引号（三单引号或者双引号都可以）\n",
    "         - 能够扩展多行信息\n",
    "- 单双引号交错使用"
   ]
  },
  {
   "cell_type": "code",
   "execution_count": 36,
   "metadata": {
    "collapsed": false
   },
   "outputs": [
    {
     "ename": "SyntaxError",
     "evalue": "invalid character in identifier (<ipython-input-36-72eb5ae7977d>, line 17)",
     "output_type": "error",
     "traceback": [
      "\u001b[0;36m  File \u001b[0;32m\"<ipython-input-36-72eb5ae7977d>\"\u001b[0;36m, line \u001b[0;32m17\u001b[0m\n\u001b[0;31m    print（htmls)\u001b[0m\n\u001b[0m              ^\u001b[0m\n\u001b[0;31mSyntaxError\u001b[0m\u001b[0;31m:\u001b[0m invalid character in identifier\n"
     ]
    }
   ],
   "source": [
    "love = \"i  love wangxiaoqin\"\n",
    "print(love)\n",
    "\n",
    "love = '我爱王晓晴'\n",
    "print(love)\n",
    "\n",
    "# 单双引号交错使用例子\n",
    "#<a style=\"color:red\">哈哈哈</a>\n",
    "#用引号表示上面的字符串\n",
    "html  = '<a style=\"color:red\">哈哈哈</a>'\n",
    "\n",
    "htmls = '''\n",
    "i love wangxiaoqin\n",
    "我爱王晓晴\n",
    "\n",
    "'''\n",
    "print(htmls)"
   ]
  },
  {
   "cell_type": "markdown",
   "metadata": {
    "collapsed": true
   },
   "source": []
  }
 ],
 "metadata": {
  "anaconda-cloud": {},
  "kernelspec": {
   "display_name": "Python [default]",
   "language": "python",
   "name": "python3"
  },
  "language_info": {
   "codemirror_mode": {
    "name": "ipython",
    "version": 3
   },
   "file_extension": ".py",
   "mimetype": "text/x-python",
   "name": "python",
   "nbconvert_exporter": "python",
   "pygments_lexer": "ipython3",
   "version": "3.5.2"
  }
 },
 "nbformat": 4,
 "nbformat_minor": 1
}
