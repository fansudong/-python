{
 "cells": [
  {
   "cell_type": "markdown",
   "metadata": {},
   "source": [
    "# Python基础\n",
    "## Python概述\n",
    "- 计算机语言概述  \n",
    "    - Python是计算机语言的一种 Python编程语言  \n",
    "    - Python编程语言\n",
    "         - Python解释器：担任语言翻译成人类能够看懂的语言\n",
    "         - 流程：\n",
    "            - 写代码\n",
    "            - 执行：由翻译官（Python解释器）把命令（code）翻译给机器，同事把机器结果翻译给我们\n",
    "    - Python简史\n",
    "       - 1989年，Guido van Rossum\n",
    "       - 2008：Python3.0诞生\n",
    "       - 2014：宣布2.7支持到2020年\n",
    "       - 2017：AI元年，Python崛起\n",
    "    - Python特点\n",
    "        - 速度问题\n",
    "        - Python跟其他语言的选择问题\n",
    "    - Python的应用领域\n",
    "        - 全能\n",
    "        - 设计哲学：平衡发展，样样通，简洁明了\n",
    "    - Python为什么这么火\n",
    "        - 会不会持续火\n",
    "    - 环境问题\n",
    "        - anaconda+pycharm\n",
    "        - python3.5\n",
    "    - 环境\n",
    "       - 学习环境\n",
    "            - 直播课：网易云课堂\n",
    "            - 讲义+代码 GitHub\n",
    "            - 教科书： Gitbook\n",
    "        - 操作系统\n",
    "            - windows\n",
    "            - Linux\n",
    "            - MacOX\n",
    "            - 标准系统;windows下开虚拟机，虚拟机安装Ubuntu\n",
    "        - 软件环境\n",
    "            - 不使用Python解释器\n",
    "            - 使用anaconda3+pycharm代替\n",
    "        - python的执行方式\n",
    "            - 本质上Python是一堆命令的集合\n",
    "            - 执行的过程是逐行执行\n",
    "            - 打印Hello world\n",
    "            \n",
    "        \n",
    "    \n",
    "                        \n",
    " \n",
    "            \n",
    "            \n",
    "    "
   ]
  },
  {
   "cell_type": "code",
   "execution_count": 2,
   "metadata": {
    "collapsed": false
   },
   "outputs": [
    {
     "name": "stdout",
     "output_type": "stream",
     "text": [
      "Hello world\n"
     ]
    }
   ],
   "source": [
    "print('Hello world')"
   ]
  },
  {
   "cell_type": "code",
   "execution_count": null,
   "metadata": {
    "collapsed": true
   },
   "outputs": [],
   "source": []
  }
 ],
 "metadata": {
  "anaconda-cloud": {},
  "kernelspec": {
   "display_name": "Python [default]",
   "language": "python",
   "name": "python3"
  },
  "language_info": {
   "codemirror_mode": {
    "name": "ipython",
    "version": 3
   },
   "file_extension": ".py",
   "mimetype": "text/x-python",
   "name": "python",
   "nbconvert_exporter": "python",
   "pygments_lexer": "ipython3",
   "version": "3.5.2"
  }
 },
 "nbformat": 4,
 "nbformat_minor": 1
}
